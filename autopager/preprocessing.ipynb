{
 "cells": [
  {
   "cell_type": "markdown",
   "metadata": {},
   "source": [
    "# HTML Downloader and Preprocessor"
   ]
  },
  {
   "cell_type": "code",
   "execution_count": 6,
   "metadata": {},
   "outputs": [],
   "source": [
    "import os\n",
    "import re\n",
    "import sys\n",
    "import requests\n",
    "import numpy as np\n",
    "import parsel\n",
    "from urllib.parse import urlparse\n",
    "sys.path.insert(0, '..')\n",
    "from autopager.htmlutils import get_every_button_and_a\n",
    "from autopager.model import page_to_features"
   ]
  },
  {
   "cell_type": "code",
   "execution_count": 7,
   "metadata": {},
   "outputs": [],
   "source": [
    "from selenium import webdriver\n",
    "from selenium.webdriver.chrome.options import Options\n",
    "import ssl\n",
    "WINDOW_SIZE = \"1920,1080\"\n",
    "chrome_options = Options()\n",
    "chrome_options.binary_location = \"/usr/bin/google-chrome\"\n",
    "chrome_options.add_argument(f\"--window-size={WINDOW_SIZE}\")\n",
    "chrome_options.add_argument('--headless')\n",
    "chrome_options.add_argument('--no-sandbox')\n",
    "chrome_options.add_argument('--disable-dev-shm-usage')\n",
    "ssl._create_default_https_context = ssl._create_unverified_context"
   ]
  },
  {
   "cell_type": "code",
   "execution_count": 8,
   "metadata": {},
   "outputs": [],
   "source": [
    "import time"
   ]
  },
  {
   "cell_type": "code",
   "execution_count": 9,
   "metadata": {},
   "outputs": [],
   "source": [
    "DEFAULT_PROJECT_FOLDER = os.path.abspath('..')"
   ]
  },
  {
   "cell_type": "code",
   "execution_count": 10,
   "metadata": {},
   "outputs": [],
   "source": [
    "DEFAULT_PREDICT_FOLDER = os.path.abspath('..') + '/predict_folder'"
   ]
  },
  {
   "cell_type": "code",
   "execution_count": 11,
   "metadata": {},
   "outputs": [],
   "source": [
    "DEFAULT_MODEL_FOLDER = os.path.abspath('..') + '/models'"
   ]
  },
  {
   "cell_type": "code",
   "execution_count": 12,
   "metadata": {},
   "outputs": [],
   "source": [
    "IS_CONTAIN_BUTTON = True"
   ]
  },
  {
   "cell_type": "code",
   "execution_count": 20,
   "metadata": {},
   "outputs": [],
   "source": [
    "NB_TO_PY = True"
   ]
  },
  {
   "cell_type": "code",
   "execution_count": 14,
   "metadata": {},
   "outputs": [],
   "source": [
    "SCROLL_PAUSE_TIME = 0.5"
   ]
  },
  {
   "cell_type": "code",
   "execution_count": 15,
   "metadata": {},
   "outputs": [],
   "source": [
    "def _scrollToButtom(driver):\n",
    "    driver.execute_script(\"window.scrollTo(0, document.body.scrollHeight);\")"
   ]
  },
  {
   "cell_type": "code",
   "execution_count": 16,
   "metadata": {},
   "outputs": [],
   "source": [
    "def _get_html_from_selenium(url):\n",
    "    # 然後將options加入Chrome方法裡面，至於driver請用executable_path宣告進入\n",
    "    browser=webdriver.Chrome(options=chrome_options)\n",
    "    browser.implicitly_wait(5)\n",
    "    browser.set_page_load_timeout(30)\n",
    "    # 在瀏覽器打上網址連入\n",
    "    browser.get(url)\n",
    "    _scrollToButtom(browser)\n",
    "    time.sleep(SCROLL_PAUSE_TIME)\n",
    "    html = browser.page_source\n",
    "    browser.quit()\n",
    "    return html"
   ]
  },
  {
   "cell_type": "code",
   "execution_count": 17,
   "metadata": {},
   "outputs": [],
   "source": [
    "def generate_page_component(url):\n",
    "    html = _get_html_from_selenium(url)\n",
    "    url_obj = urlparse(url)\n",
    "    return {\n",
    "        \"html\": html,\n",
    "        \"parseObj\": url_obj,\n",
    "    }"
   ]
  },
  {
   "cell_type": "code",
   "execution_count": 18,
   "metadata": {},
   "outputs": [],
   "source": [
    "def get_selectors_from_file(html):\n",
    "    sel = parsel.Selector(html)\n",
    "    links = get_every_button_and_a(sel)\n",
    "    xseq = page_to_features(links)\n",
    "    return xseq"
   ]
  },
  {
   "cell_type": "code",
   "execution_count": 21,
   "metadata": {},
   "outputs": [
    {
     "name": "stdout",
     "output_type": "stream",
     "text": [
      "[NbConvertApp] Converting notebook preprocessing.ipynb to script\n",
      "[NbConvertApp] Writing 2326 bytes to preprocessing.py\n"
     ]
    }
   ],
   "source": [
    "if __name__ == '__main__':\n",
    "    # If NB_TO_PY is true, than we convert this book to .py file\n",
    "    if NB_TO_PY:\n",
    "        !jupyter nbconvert --to script preprocessing.ipynb\n",
    "    else:\n",
    "        test_url = \"https://kktix.com/events\"\n",
    "        page = generate_page_component(test_url)\n",
    "        xseq = get_selectors_from_file(page[\"html\"])\n",
    "        print(xseq[:5])"
   ]
  },
  {
   "cell_type": "code",
   "execution_count": null,
   "metadata": {},
   "outputs": [],
   "source": []
  }
 ],
 "metadata": {
  "kernelspec": {
   "display_name": "Python 3",
   "language": "python",
   "name": "python3"
  },
  "language_info": {
   "codemirror_mode": {
    "name": "ipython",
    "version": 3
   },
   "file_extension": ".py",
   "mimetype": "text/x-python",
   "name": "python",
   "nbconvert_exporter": "python",
   "pygments_lexer": "ipython3",
   "version": "3.6.9"
  }
 },
 "nbformat": 4,
 "nbformat_minor": 4
}
